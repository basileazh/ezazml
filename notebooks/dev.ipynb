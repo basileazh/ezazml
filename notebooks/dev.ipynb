{
 "cells": [
  {
   "cell_type": "code",
   "execution_count": 1,
   "id": "initial_id",
   "metadata": {
    "collapsed": true,
    "ExecuteTime": {
     "end_time": "2024-07-17T23:01:27.771158Z",
     "start_time": "2024-07-17T23:01:27.761140Z"
    }
   },
   "outputs": [],
   "source": [
    "random_folder_path=\"C:/Users/zhongj/Desktop/Research/Research/Random\"\n",
    "random_file_path=\"C:/Users/zhongj/Desktop/Research/Research/Random/Random.txt\"\n",
    "random_folder_pattern=\"C:/Users/zhongj/Desktop/Research/Research/Random/*.csv\""
   ]
  },
  {
   "cell_type": "code",
   "outputs": [
    {
     "name": "stdout",
     "output_type": "stream",
     "text": [
      "C:/Users/zhongj/Desktop/Research/Research/Random\n",
      "txt\n",
      "csv\n"
     ]
    }
   ],
   "source": [
    "print(random_folder_path.split(\".\")[-1])\n",
    "print(random_file_path.split(\".\")[-1])\n",
    "print(random_folder_pattern.split(\".\")[-1])"
   ],
   "metadata": {
    "collapsed": false,
    "ExecuteTime": {
     "end_time": "2024-07-17T23:01:27.780492Z",
     "start_time": "2024-07-17T23:01:27.776670Z"
    }
   },
   "id": "6e7f0a1789717504",
   "execution_count": 2
  },
  {
   "cell_type": "code",
   "outputs": [
    {
     "name": "stdout",
     "output_type": "stream",
     "text": [
      "1\n",
      "2\n",
      "2\n"
     ]
    }
   ],
   "source": [
    "print(len(random_folder_path.split(\".\")))\n",
    "print(len(random_file_path.split(\".\")))\n",
    "print(len(random_folder_pattern.split(\".\")))"
   ],
   "metadata": {
    "collapsed": false,
    "ExecuteTime": {
     "end_time": "2024-07-17T23:02:30.521522Z",
     "start_time": "2024-07-17T23:02:30.515200Z"
    }
   },
   "id": "3f57b478651b731e",
   "execution_count": 4
  },
  {
   "cell_type": "code",
   "outputs": [],
   "source": [],
   "metadata": {
    "collapsed": false
   },
   "id": "776a99a44dfb9e18"
  },
  {
   "cell_type": "code",
   "outputs": [],
   "source": [],
   "metadata": {
    "collapsed": false
   },
   "id": "c28783379a7290d4"
  }
 ],
 "metadata": {
  "kernelspec": {
   "display_name": "Python 3",
   "language": "python",
   "name": "python3"
  },
  "language_info": {
   "codemirror_mode": {
    "name": "ipython",
    "version": 2
   },
   "file_extension": ".py",
   "mimetype": "text/x-python",
   "name": "python",
   "nbconvert_exporter": "python",
   "pygments_lexer": "ipython2",
   "version": "2.7.6"
  }
 },
 "nbformat": 4,
 "nbformat_minor": 5
}
